{
 "cells": [
  {
   "cell_type": "code",
   "execution_count": 1,
   "id": "2295130c",
   "metadata": {},
   "outputs": [
    {
     "name": "stdout",
     "output_type": "stream",
     "text": [
      "Sorted array :\n",
      "150 192 239 254 310 397 995 \n",
      "\n",
      "Runtime of the program is 0.0009958744049072266s.\n"
     ]
    }
   ],
   "source": [
    "import time\n",
    "\n",
    "def bubble_sort(arr):\n",
    "    n = len(arr)\n",
    "\n",
    "    for i in range(n):\n",
    "        swapped = False\n",
    "\n",
    "        for j in range(0, n - i - 1):\n",
    "\n",
    "            if arr[j] > arr[j + 1]:\n",
    "                arr[j], arr[j + 1] = arr[j + 1], arr[j]\n",
    "                swapped = True\n",
    "\n",
    "        # IF no two elements were swapped by inner loop, then break\n",
    "        if swapped == False:\n",
    "            break\n",
    "\n",
    "\n",
    "arr = [150, 397, 239, 192, 254, 995, 310]\n",
    "start = time.time()\n",
    "bubble_sort(arr)\n",
    "\n",
    "print (\"Sorted array :\")\n",
    "for i in range(len(arr)):\n",
    "    print (\"%d\" % arr[i], end=\" \")\n",
    "\n",
    "end = time.time()\n",
    "print(\"\\n\\nRuntime of the program is \" + str(end - start) + \"s.\")\n"
   ]
  },
  {
   "cell_type": "code",
   "execution_count": null,
   "id": "1c29a4eb",
   "metadata": {},
   "outputs": [],
   "source": []
  }
 ],
 "metadata": {
  "kernelspec": {
   "display_name": "Python 3",
   "language": "python",
   "name": "python3"
  },
  "language_info": {
   "codemirror_mode": {
    "name": "ipython",
    "version": 3
   },
   "file_extension": ".py",
   "mimetype": "text/x-python",
   "name": "python",
   "nbconvert_exporter": "python",
   "pygments_lexer": "ipython3",
   "version": "3.8.8"
  }
 },
 "nbformat": 4,
 "nbformat_minor": 5
}
